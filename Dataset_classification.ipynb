{
  "nbformat": 4,
  "nbformat_minor": 0,
  "metadata": {
    "colab": {
      "name": "Dataset_classification.ipynb",
      "provenance": []
    },
    "kernelspec": {
      "name": "python3",
      "display_name": "Python 3"
    }
  },
  "cells": [
    {
      "cell_type": "code",
      "metadata": {
        "id": "xfZVo-0jJBgc",
        "colab_type": "code",
        "colab": {
          "base_uri": "https://localhost:8080/",
          "height": 136
        },
        "outputId": "6008794f-3a44-4b0e-f2bf-4b381a40e3ba"
      },
      "source": [
        "import sys\n",
        "import numpy\n",
        "import pandas\n",
        "import sklearn\n",
        "import scipy\n",
        "import matplotlib\n",
        "print('Python: {}'.format(sys.version))\n",
        "print('numpy: {}'.format(numpy.__version__))\n",
        "print('scipy: {}'.format(scipy.__version__))\n",
        "print('pandas: {}'.format(pandas.__version__))\n",
        "print('matplotlib: {}'.format(matplotlib.__version__))\n",
        "print('sklearn: {}'.format(sklearn.__version__))"
      ],
      "execution_count": 1,
      "outputs": [
        {
          "output_type": "stream",
          "text": [
            "Python: 3.6.9 (default, Nov  7 2019, 10:44:02) \n",
            "[GCC 8.3.0]\n",
            "numpy: 1.18.3\n",
            "scipy: 1.4.1\n",
            "pandas: 1.0.3\n",
            "matplotlib: 3.2.1\n",
            "sklearn: 0.22.2.post1\n"
          ],
          "name": "stdout"
        }
      ]
    },
    {
      "cell_type": "code",
      "metadata": {
        "id": "IqLq1tf-JSWf",
        "colab_type": "code",
        "colab": {}
      },
      "source": [
        "import pandas\n",
        "from pandas import read_csv\n",
        "from pandas.plotting import scatter_matrix\n",
        "from matplotlib import pyplot\n",
        "from sklearn.model_selection import train_test_split\n",
        "from sklearn.model_selection import cross_val_score\n",
        "from sklearn.model_selection import StratifiedKFold\n",
        "from sklearn.metrics import classification_report\n",
        "from sklearn.metrics import confusion_matrix\n",
        "from sklearn.metrics import accuracy_score\n",
        "from sklearn.linear_model import LogisticRegression\n",
        "from sklearn.tree import DecisionTreeClassifier\n",
        "from sklearn.neighbors import KNeighborsClassifier\n",
        "from sklearn.discriminant_analysis import LinearDiscriminantAnalysis\n",
        "from sklearn.naive_bayes import GaussianNB\n",
        "from sklearn.svm import SVC\n",
        "from sklearn import model_selection\n",
        "from sklearn.ensemble import VotingClassifier"
      ],
      "execution_count": 0,
      "outputs": []
    },
    {
      "cell_type": "code",
      "metadata": {
        "id": "CpewDxvOJba3",
        "colab_type": "code",
        "colab": {}
      },
      "source": [
        "#uploading dataset\n",
        "url=\"https://raw.githubusercontent.com/jbrownlee/Datasets/master/iris.csv\"\n",
        "names= ['sepal-l','sepal-w','petal-l','petal-w','class']\n",
        "dataset= read_csv(url,names=names)"
      ],
      "execution_count": 0,
      "outputs": []
    },
    {
      "cell_type": "code",
      "metadata": {
        "id": "4XtK95NKJdq2",
        "colab_type": "code",
        "colab": {
          "base_uri": "https://localhost:8080/",
          "height": 34
        },
        "outputId": "e23b03ee-bd83-4755-aed3-2ace8b9d2061"
      },
      "source": [
        "#dimensions of the data set\n",
        "print(dataset.shape)"
      ],
      "execution_count": 4,
      "outputs": [
        {
          "output_type": "stream",
          "text": [
            "(150, 5)\n"
          ],
          "name": "stdout"
        }
      ]
    },
    {
      "cell_type": "code",
      "metadata": {
        "id": "-az9xvfLJhls",
        "colab_type": "code",
        "colab": {
          "base_uri": "https://localhost:8080/",
          "height": 374
        },
        "outputId": "33d1959b-8e11-4f8e-da16-c5a1ae4f0460"
      },
      "source": [
        "#take a peek at the data\n",
        "print(dataset.head(20))"
      ],
      "execution_count": 5,
      "outputs": [
        {
          "output_type": "stream",
          "text": [
            "    sepal-l  sepal-w  petal-l  petal-w        class\n",
            "0       5.1      3.5      1.4      0.2  Iris-setosa\n",
            "1       4.9      3.0      1.4      0.2  Iris-setosa\n",
            "2       4.7      3.2      1.3      0.2  Iris-setosa\n",
            "3       4.6      3.1      1.5      0.2  Iris-setosa\n",
            "4       5.0      3.6      1.4      0.2  Iris-setosa\n",
            "5       5.4      3.9      1.7      0.4  Iris-setosa\n",
            "6       4.6      3.4      1.4      0.3  Iris-setosa\n",
            "7       5.0      3.4      1.5      0.2  Iris-setosa\n",
            "8       4.4      2.9      1.4      0.2  Iris-setosa\n",
            "9       4.9      3.1      1.5      0.1  Iris-setosa\n",
            "10      5.4      3.7      1.5      0.2  Iris-setosa\n",
            "11      4.8      3.4      1.6      0.2  Iris-setosa\n",
            "12      4.8      3.0      1.4      0.1  Iris-setosa\n",
            "13      4.3      3.0      1.1      0.1  Iris-setosa\n",
            "14      5.8      4.0      1.2      0.2  Iris-setosa\n",
            "15      5.7      4.4      1.5      0.4  Iris-setosa\n",
            "16      5.4      3.9      1.3      0.4  Iris-setosa\n",
            "17      5.1      3.5      1.4      0.3  Iris-setosa\n",
            "18      5.7      3.8      1.7      0.3  Iris-setosa\n",
            "19      5.1      3.8      1.5      0.3  Iris-setosa\n"
          ],
          "name": "stdout"
        }
      ]
    },
    {
      "cell_type": "code",
      "metadata": {
        "id": "RFmyXmTMJoyh",
        "colab_type": "code",
        "colab": {
          "base_uri": "https://localhost:8080/",
          "height": 170
        },
        "outputId": "244c5938-f31e-4a05-e282-6f7215289e37"
      },
      "source": [
        "#statistical summary\n",
        "print(dataset.describe())"
      ],
      "execution_count": 6,
      "outputs": [
        {
          "output_type": "stream",
          "text": [
            "          sepal-l     sepal-w     petal-l     petal-w\n",
            "count  150.000000  150.000000  150.000000  150.000000\n",
            "mean     5.843333    3.054000    3.758667    1.198667\n",
            "std      0.828066    0.433594    1.764420    0.763161\n",
            "min      4.300000    2.000000    1.000000    0.100000\n",
            "25%      5.100000    2.800000    1.600000    0.300000\n",
            "50%      5.800000    3.000000    4.350000    1.300000\n",
            "75%      6.400000    3.300000    5.100000    1.800000\n",
            "max      7.900000    4.400000    6.900000    2.500000\n"
          ],
          "name": "stdout"
        }
      ]
    },
    {
      "cell_type": "code",
      "metadata": {
        "id": "ZCpqKknqJti-",
        "colab_type": "code",
        "colab": {
          "base_uri": "https://localhost:8080/",
          "height": 102
        },
        "outputId": "a22f68f4-5a43-4971-c856-2ca658962025"
      },
      "source": [
        "#class distribution\n",
        "print(dataset.groupby('class').size())"
      ],
      "execution_count": 7,
      "outputs": [
        {
          "output_type": "stream",
          "text": [
            "class\n",
            "Iris-setosa        50\n",
            "Iris-versicolor    50\n",
            "Iris-virginica     50\n",
            "dtype: int64\n"
          ],
          "name": "stdout"
        }
      ]
    },
    {
      "cell_type": "code",
      "metadata": {
        "id": "AkdqDcNuJxvL",
        "colab_type": "code",
        "colab": {
          "base_uri": "https://localhost:8080/",
          "height": 267
        },
        "outputId": "35e43eb3-6391-4955-b801-ce35bf867041"
      },
      "source": [
        "#box and whisker plots\n",
        "dataset.plot(kind='box', subplots=True, layout=(2,2), sharex=False, sharey=False)\n",
        "pyplot.show()"
      ],
      "execution_count": 8,
      "outputs": [
        {
          "output_type": "display_data",
          "data": {
            "image/png": "[encoded data removed]",
            "text/plain": [
              "<Figure size 432x288 with 4 Axes>"
            ]
          },
          "metadata": {
            "tags": [],
            "needs_background": "light"
          }
        }
      ]
    },
    {
      "cell_type": "code",
      "metadata": {
        "id": "79XAr-kjKbpw",
        "colab_type": "code",
        "colab": {
          "base_uri": "https://localhost:8080/",
          "height": 281
        },
        "outputId": "4d6e8f4c-dbd0-470a-e142-5235a353eeb0"
      },
      "source": [
        "#histgram of plots\n",
        "dataset.hist()\n",
        "pyplot.show()"
      ],
      "execution_count": 9,
      "outputs": [
        {
          "output_type": "display_data",
          "data": {
            "image/png": "[encoded data removed]",
            "text/plain": [
              "<Figure size 432x288 with 4 Axes>"
            ]
          },
          "metadata": {
            "tags": [],
            "needs_background": "light"
          }
        }
      ]
    },
    {
      "cell_type": "code",
      "metadata": {
        "id": "qJqsjM4KKlQd",
        "colab_type": "code",
        "colab": {
          "base_uri": "https://localhost:8080/",
          "height": 282
        },
        "outputId": "1b279b37-0926-40a9-f428-68e59ca5c783"
      },
      "source": [
        "#multivariateplots\n",
        "scatter_matrix(dataset)\n",
        "pyplot.show()"
      ],
      "execution_count": 10,
      "outputs": [
        {
          "output_type": "display_data",
          "data": {
            "image/png": "[encoded data removed]",
            "text/plain": [
              "<Figure size 432x288 with 16 Axes>"
            ]
          },
          "metadata": {
            "tags": [],
            "needs_background": "light"
          }
        }
      ]
    },
    {
      "cell_type": "code",
      "metadata": {
        "id": "fe6Tgg-OKqsp",
        "colab_type": "code",
        "colab": {}
      },
      "source": [
        "#creating a validation dataset\n",
        "#splitting dataset\n",
        "array= dataset.values\n",
        "X= array[:, 0:4]\n",
        "y= array[:, 4]\n",
        "x_t, x_v, Y_t, Y_v= train_test_split(X, y, test_size=0.2, random_state=1)"
      ],
      "execution_count": 0,
      "outputs": []
    },
    {
      "cell_type": "code",
      "metadata": {
        "id": "DaS0HcdlKyXZ",
        "colab_type": "code",
        "colab": {}
      },
      "source": [
        "#logistic regression\n",
        "#lineardiscriminantanalysys\n",
        "#knearestneighbors\n",
        "#classification and regression trees\n",
        "# gausian NB\n",
        "#support vector machines\n",
        "\n",
        "\n",
        "\n",
        "pass"
      ],
      "execution_count": 0,
      "outputs": []
    },
    {
      "cell_type": "code",
      "metadata": {
        "id": "lmXqXU3NK3v7",
        "colab_type": "code",
        "colab": {}
      },
      "source": [
        "#bilding models\n",
        "\n",
        "models= []\n",
        "models.append(('LR',LogisticRegression(solver='liblinear',multi_class='ovr')))\n",
        "models.append(('LDA',LinearDiscriminantAnalysis()))\n",
        "models.append(('KNN',KNeighborsClassifier()))\n",
        "models.append(('NB',GaussianNB()))\n",
        "models.append(('SVM',SVC(gamma='auto')))"
      ],
      "execution_count": 0,
      "outputs": []
    },
    {
      "cell_type": "code",
      "metadata": {
        "id": "GHU_D8s-K9CC",
        "colab_type": "code",
        "colab": {
          "base_uri": "https://localhost:8080/",
          "height": 292
        },
        "outputId": "28b75072-4c0a-4570-a7f7-e99407497567"
      },
      "source": [
        "#created models evaluation\n",
        "results =[]\n",
        "names= []\n",
        "for name, model in models:\n",
        "    kfold=StratifiedKFold(n_splits=10,random_state=1)\n",
        "    cv_results= cross_val_score(model,x_t,Y_t,cv=kfold,scoring='accuracy')\n",
        "    results.append(cv_results)\n",
        "    names.append(name)\n",
        "    print('%s %f (%f)'% (name,cv_results.mean(), cv_results.std()) )"
      ],
      "execution_count": 18,
      "outputs": [
        {
          "output_type": "stream",
          "text": [
            "LR 0.950000 (0.055277)\n",
            "LDA 0.975000 (0.038188)\n",
            "KNN 0.958333 (0.041667)\n",
            "NB 0.950000 (0.055277)\n",
            "SVM 0.983333 (0.033333)\n"
          ],
          "name": "stdout"
        },
        {
          "output_type": "stream",
          "text": [
            "/usr/local/lib/python3.6/dist-packages/sklearn/model_selection/_split.py:296: FutureWarning: Setting a random_state has no effect since shuffle is False. This will raise an error in 0.24. You should leave random_state to its default (None), or set shuffle=True.\n",
            "  FutureWarning\n",
            "/usr/local/lib/python3.6/dist-packages/sklearn/model_selection/_split.py:296: FutureWarning: Setting a random_state has no effect since shuffle is False. This will raise an error in 0.24. You should leave random_state to its default (None), or set shuffle=True.\n",
            "  FutureWarning\n",
            "/usr/local/lib/python3.6/dist-packages/sklearn/model_selection/_split.py:296: FutureWarning: Setting a random_state has no effect since shuffle is False. This will raise an error in 0.24. You should leave random_state to its default (None), or set shuffle=True.\n",
            "  FutureWarning\n",
            "/usr/local/lib/python3.6/dist-packages/sklearn/model_selection/_split.py:296: FutureWarning: Setting a random_state has no effect since shuffle is False. This will raise an error in 0.24. You should leave random_state to its default (None), or set shuffle=True.\n",
            "  FutureWarning\n",
            "/usr/local/lib/python3.6/dist-packages/sklearn/model_selection/_split.py:296: FutureWarning: Setting a random_state has no effect since shuffle is False. This will raise an error in 0.24. You should leave random_state to its default (None), or set shuffle=True.\n",
            "  FutureWarning\n"
          ],
          "name": "stderr"
        }
      ]
    },
    {
      "cell_type": "code",
      "metadata": {
        "id": "wFiyUP3GLGXM",
        "colab_type": "code",
        "colab": {
          "base_uri": "https://localhost:8080/",
          "height": 281
        },
        "outputId": "02ce57b6-b180-46ba-bd6d-d56f20decb07"
      },
      "source": [
        "#model comaprison\n",
        "pyplot.boxplot(results, labels=names)\n",
        "pyplot.title('Alg Comp')\n",
        "pyplot.show()"
      ],
      "execution_count": 19,
      "outputs": [
        {
          "output_type": "display_data",
          "data": {
            "image/png": "[encoded data removed]",
            "text/plain": [
              "<Figure size 432x288 with 1 Axes>"
            ]
          },
          "metadata": {
            "tags": [],
            "needs_background": "light"
          }
        }
      ]
    },
    {
      "cell_type": "code",
      "metadata": {
        "id": "jSlny201LL8n",
        "colab_type": "code",
        "colab": {}
      },
      "source": [
        "#make a prediciton on svm\n",
        "\n",
        "model =SVC(gamma='auto')\n",
        "model.fit(x_t,Y_t)\n",
        "predictions = model.predict(x_v)"
      ],
      "execution_count": 0,
      "outputs": []
    },
    {
      "cell_type": "code",
      "metadata": {
        "id": "LGDrROoSLSM3",
        "colab_type": "code",
        "colab": {
          "base_uri": "https://localhost:8080/",
          "height": 255
        },
        "outputId": "dfe37691-11b1-43da-db1c-5a9a0170bc76"
      },
      "source": [
        "#evaluate predicitons\n",
        "print(accuracy_score(Y_v, predictions))\n",
        "print(confusion_matrix(Y_v, predictions))\n",
        "print(classification_report(Y_v,predictions))"
      ],
      "execution_count": 20,
      "outputs": [
        {
          "output_type": "stream",
          "text": [
            "0.9666666666666667\n",
            "[[11  0  0]\n",
            " [ 0 12  1]\n",
            " [ 0  0  6]]\n",
            "                 precision    recall  f1-score   support\n",
            "\n",
            "    Iris-setosa       1.00      1.00      1.00        11\n",
            "Iris-versicolor       1.00      0.92      0.96        13\n",
            " Iris-virginica       0.86      1.00      0.92         6\n",
            "\n",
            "       accuracy                           0.97        30\n",
            "      macro avg       0.95      0.97      0.96        30\n",
            "   weighted avg       0.97      0.97      0.97        30\n",
            "\n"
          ],
          "name": "stdout"
        }
      ]
    },
    {
      "cell_type": "code",
      "metadata": {
        "id": "SCaUQjLbLz5e",
        "colab_type": "code",
        "colab": {}
      },
      "source": [
        ""
      ],
      "execution_count": 0,
      "outputs": []
    }
  ]
}